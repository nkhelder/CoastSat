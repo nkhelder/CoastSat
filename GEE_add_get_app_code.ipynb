{
  "nbformat": 4,
  "nbformat_minor": 0,
  "metadata": {
    "colab": {
      "name": "GEE_add_get_app_code.ipynb",
      "provenance": [],
      "include_colab_link": true
    },
    "kernelspec": {
      "name": "python3",
      "display_name": "Python 3"
    },
    "language_info": {
      "name": "python"
    }
  },
  "cells": [
    {
      "cell_type": "markdown",
      "metadata": {
        "id": "view-in-github",
        "colab_type": "text"
      },
      "source": [
        "<a href=\"https://colab.research.google.com/github/nkhelder/CoastSat/blob/master/GEE_add_get_app_code.ipynb\" target=\"_parent\"><img src=\"https://colab.research.google.com/assets/colab-badge.svg\" alt=\"Open In Colab\"/></a>"
      ]
    },
    {
      "cell_type": "markdown",
      "source": [
        "# Getting Code from Google Earth Engine Apps\n",
        "\n",
        "It's super useful to be able to look at geospatial data in [Google Earth Engine Apps](https://www.earthengine.app/).\n",
        "\n",
        "<br>\n",
        "\n",
        "The following code will demonstrate how to get the code from any publically accessible app.\n",
        "\n",
        "<br>\n",
        "\n",
        "A list of publically accessible apps can be found [here](https://philippgaertner.github.io/2020/03/ee-apps/).\n",
        "\n",
        "<br>\n",
        "\n",
        "We can accomplish this using the Google Earth Engine Batch Asset Manager with Addons, also known as the [geeadd](https://samapriya.github.io/projects/gee_asset_manager_addon/) package."
      ],
      "metadata": {
        "id": "nP0fNX8VlCiE"
      }
    },
    {
      "cell_type": "markdown",
      "source": [
        "## Mount Google Drive\n",
        "\n",
        "This is where the output app code will be saved."
      ],
      "metadata": {
        "id": "E2UY-3N-pV4c"
      }
    },
    {
      "cell_type": "code",
      "source": [
        "from google.colab import drive\n",
        "drive.mount('/content/drive')"
      ],
      "metadata": {
        "colab": {
          "base_uri": "https://localhost:8080/"
        },
        "id": "AMM_NZ47o9wH",
        "outputId": "d8ebab4c-12d4-44a5-cfe7-5124cd91601e"
      },
      "execution_count": null,
      "outputs": [
        {
          "output_type": "stream",
          "name": "stdout",
          "text": [
            "Mounted at /content/drive\n"
          ]
        }
      ]
    },
    {
      "cell_type": "markdown",
      "source": [
        "## Import packages"
      ],
      "metadata": {
        "id": "QWVrKz6ZoLcD"
      }
    },
    {
      "cell_type": "code",
      "execution_count": null,
      "metadata": {
        "colab": {
          "base_uri": "https://localhost:8080/"
        },
        "id": "zdVr8IKhk4tm",
        "outputId": "a5f40aa8-b90e-42ef-9042-637849c67b51"
      },
      "outputs": [
        {
          "output_type": "stream",
          "name": "stdout",
          "text": [
            "\u001b[?25l\r\u001b[K     |██▋                             | 10 kB 26.7 MB/s eta 0:00:01\r\u001b[K     |█████▏                          | 20 kB 32.8 MB/s eta 0:00:01\r\u001b[K     |███████▊                        | 30 kB 38.9 MB/s eta 0:00:01\r\u001b[K     |██████████▎                     | 40 kB 43.7 MB/s eta 0:00:01\r\u001b[K     |████████████▉                   | 51 kB 8.4 MB/s eta 0:00:01\r\u001b[K     |███████████████▍                | 61 kB 9.8 MB/s eta 0:00:01\r\u001b[K     |██████████████████              | 71 kB 9.1 MB/s eta 0:00:01\r\u001b[K     |████████████████████▌           | 81 kB 9.0 MB/s eta 0:00:01\r\u001b[K     |███████████████████████         | 92 kB 10.0 MB/s eta 0:00:01\r\u001b[K     |█████████████████████████▋      | 102 kB 10.8 MB/s eta 0:00:01\r\u001b[K     |████████████████████████████▏   | 112 kB 10.8 MB/s eta 0:00:01\r\u001b[K     |██████████████████████████████▊ | 122 kB 10.8 MB/s eta 0:00:01\r\u001b[K     |████████████████████████████████| 128 kB 10.8 MB/s \n",
            "\u001b[?25h"
          ]
        }
      ],
      "source": [
        "# Install the geeadd package\n",
        "!pip install geeadd --quiet"
      ]
    },
    {
      "cell_type": "markdown",
      "source": [
        "## Set Outputs and Execute\n",
        "\n",
        "Set **app_url** to the app you want the code for and **drive_folder** to where the output js file should be saved."
      ],
      "metadata": {
        "id": "PclsJweaoOGP"
      }
    },
    {
      "cell_type": "code",
      "source": [
        "app_url = \"https://collectearth.users.earthengine.app/view/emergency-compare\" #@param {type:\"string\"}\n",
        "drive_folder = \"/content/drive/MyDrive/measure.js\" #@param {type:\"string\"}"
      ],
      "metadata": {
        "id": "KM_88sQBmwQi"
      },
      "execution_count": null,
      "outputs": []
    },
    {
      "cell_type": "code",
      "source": [
        "# Get the app code\n",
        "!geeadd app2script --url {app_url} --outfile {drive_folder}"
      ],
      "metadata": {
        "id": "nZkOYfdelGkS"
      },
      "execution_count": null,
      "outputs": []
    }
  ]
}